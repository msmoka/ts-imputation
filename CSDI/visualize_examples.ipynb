{
 "cells": [
  {
   "cell_type": "code",
   "execution_count": 1,
   "metadata": {},
   "source": [
    "import matplotlib.pyplot as plt\n",
    "import numpy as np \n",
    "import torch\n",
    "import pickle\n",
    "import pandas as pd"
   ],
   "outputs": []
  },
  {
   "cell_type": "code",
   "execution_count": 2,
   "metadata": {},
   "source": [
    "def get_quantile(samples,q,dim=1):\n",
    "    return torch.quantile(samples,q,dim=dim).cpu().numpy()"
   ],
   "outputs": []
  },
  {
   "cell_type": "code",
   "execution_count": 4,
   "metadata": {},
   "source": [
    "dataset = 'healthcare' #choose 'healthcare' or 'airquality'\n",
    "datafolder = 'pretrained' # set the folder name\n",
    "nsample = 100 # number of generated sample\n",
    "\n",
    "path = './save/'+datafolder+'/generated_outputs_nsample' + str(nsample) + '.pk' \n",
    "with open(path, 'rb') as f:\n",
    "    samples,all_target,all_evalpoint,all_observed,all_observed_time,scaler,mean_scaler = pickle.load( f)\n",
    "\n",
    "all_target_np = all_target.cpu().numpy()\n",
    "all_evalpoint_np = all_evalpoint.cpu().numpy()\n",
    "all_observed_np = all_observed.cpu().numpy()\n",
    "all_given_np = all_observed_np - all_evalpoint_np\n",
    "\n",
    "K = samples.shape[-1] #feature\n",
    "L = samples.shape[-2] #time length\n",
    "\n",
    "if dataset == 'airquality':\n",
    "    path = 'data/pm25/pm25_meanstd.pk'\n",
    "    with open(path, 'rb') as f:\n",
    "        train_mean,train_std = pickle.load(f)\n",
    "    train_std_cuda = torch.from_numpy(train_std).cuda()\n",
    "    train_mean_cuda = torch.from_numpy(train_mean).cuda()\n",
    "    all_target_np=(all_target_np*train_std+train_mean)\n",
    "    samples=(samples*train_std_cuda+train_mean_cuda)"
   ],
   "outputs": []
  },
  {
   "cell_type": "code",
   "execution_count": 7,
   "metadata": {},
   "source": [
    "\n",
    "qlist =[0.05,0.25,0.5,0.75,0.95]\n",
    "quantiles_imp= []\n",
    "for q in qlist:\n",
    "    quantiles_imp.append(get_quantile(samples, q, dim=1)*(1-all_given_np) + all_target_np * all_given_np)"
   ],
   "outputs": []
  },
  {
   "cell_type": "code",
   "execution_count": 8,
   "metadata": {
    "scrolled": true
   },
   "source": [
    "###healthcare###\n",
    "dataind = 3 #change to visualize a different time-series sample\n",
    "\n",
    "plt.rcParams[\"font.size\"] = 16\n",
    "fig, axes = plt.subplots(nrows=9, ncols=4,figsize=(24.0, 36.0))\n",
    "fig.delaxes(axes[-1][-1])\n",
    "\n",
    "for k in range(K):\n",
    "    df = pd.DataFrame({\"x\":np.arange(0,L), \"val\":all_target_np[dataind,:,k], \"y\":all_evalpoint_np[dataind,:,k]})\n",
    "    df = df[df.y != 0]\n",
    "    df2 = pd.DataFrame({\"x\":np.arange(0,L), \"val\":all_target_np[dataind,:,k], \"y\":all_given_np[dataind,:,k]})\n",
    "    df2 = df2[df2.y != 0]\n",
    "    row = k // 4\n",
    "    col = k % 4\n",
    "    axes[row][col].plot(range(0,L), quantiles_imp[2][dataind,:,k], color = 'g',linestyle='solid',label='CSDI')\n",
    "    axes[row][col].fill_between(range(0,L), quantiles_imp[0][dataind,:,k],quantiles_imp[4][dataind,:,k],\n",
    "                    color='g', alpha=0.3)\n",
    "    axes[row][col].plot(df.x,df.val, color = 'b',marker = 'o', linestyle='None')\n",
    "    axes[row][col].plot(df2.x,df2.val, color = 'r',marker = 'x', linestyle='None')\n",
    "    if col == 0:\n",
    "        plt.setp(axes[row, 0], ylabel='value')\n",
    "    if row == -1:\n",
    "        plt.setp(axes[-1, col], xlabel='time')\n"
   ],
   "outputs": []
  },
  {
   "cell_type": "code",
   "execution_count": 32,
   "metadata": {},
   "source": [
    "###airquality###\n",
    "dataind = 10 #change to visualize a different sample\n",
    "\n",
    "plt.rcParams[\"font.size\"] = 16\n",
    "fig, axes = plt.subplots(nrows=9, ncols=4,figsize=(24.0, 36.0))\n",
    "fig.delaxes(axes[-1][-1])\n",
    "\n",
    "for k in range(K):\n",
    "    df = pd.DataFrame({\"x\":np.arange(0,L), \"val\":all_target_np[dataind,:,k], \"y\":all_evalpoint_np[dataind,:,k]})\n",
    "    df = df[df.y != 0]\n",
    "    df2 = pd.DataFrame({\"x\":np.arange(0,L), \"val\":all_target_np[dataind,:,k], \"y\":all_given_np[dataind,:,k]})\n",
    "    df2 = df2[df2.y != 0]\n",
    "    row = k // 4\n",
    "    col = k % 4\n",
    "    axes[row][col].plot(range(0,L), quantiles_imp[2][dataind,:,k], color = 'g',linestyle='solid',label='CSDI')\n",
    "    axes[row][col].fill_between(range(0,L), quantiles_imp[0][dataind,:,k],quantiles_imp[4][dataind,:,k],\n",
    "                    color='g', alpha=0.3)\n",
    "    axes[row][col].plot(df.x,df.val, color = 'b',marker = 'o', linestyle='None')\n",
    "    axes[row][col].plot(df2.x,df2.val, color = 'r',marker = 'x', linestyle='None')\n",
    "    if col == 0:\n",
    "        plt.setp(axes[row, 0], ylabel='value')\n",
    "    if row == -1:\n",
    "        plt.setp(axes[-1, col], xlabel='time')\n"
   ],
   "outputs": []
  },
  {
   "cell_type": "code",
   "execution_count": null,
   "metadata": {},
   "source": [],
   "outputs": []
  }
 ],
 "metadata": {
  "kernelspec": {
   "display_name": "Python 3",
   "language": "python",
   "name": "python3"
  },
  "language_info": {
   "codemirror_mode": {
    "name": "ipython",
    "version": 3
   },
   "file_extension": ".py",
   "mimetype": "text/x-python",
   "name": "python",
   "nbconvert_exporter": "python",
   "pygments_lexer": "ipython3",
   "version": "3.6.6"
  }
 },
 "nbformat": 4,
 "nbformat_minor": 4
}
