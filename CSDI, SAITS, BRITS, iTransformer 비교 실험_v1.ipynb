{
 "cells": [
  {
   "cell_type": "code",
   "execution_count": 1,
   "id": "8df69c8a",
   "metadata": {
    "ExecuteTime": {
     "end_time": "2024-05-24T08:02:57.334368Z",
     "start_time": "2024-05-24T08:02:50.533017Z"
    }
   },
   "outputs": [],
   "source": [
    "# Data preprocessing. Tedious, but PyPOTS can help.\n",
    "import numpy as np\n",
    "from sklearn.preprocessing import StandardScaler\n",
    "from pygrinder import mcar\n",
    "from pypots.data import load_specific_dataset"
   ]
  },
  {
   "cell_type": "code",
   "execution_count": 33,
   "id": "6082ad69",
   "metadata": {
    "ExecuteTime": {
     "end_time": "2024-05-24T10:42:54.273681Z",
     "start_time": "2024-05-24T10:42:54.261672Z"
    }
   },
   "outputs": [],
   "source": [
    "# Model training. This is PyPOTS showtime.\n",
    "from pypots.imputation import SAITS, CSDI, BRITS, iTransformer, Autoformer\n",
    "from pypots.optim import Adam\n",
    "from pypots.utils.logging import logger\n",
    "from pypots.utils.metrics import calc_mae, calc_mse, calc_mre, calc_rmse"
   ]
  },
  {
   "cell_type": "markdown",
   "id": "c3ef56f5",
   "metadata": {},
   "source": [
    "# Dataset List\n",
    "DATASETS_TO_TEST = [\n",
    "    \"physionet_2012\",\n",
    "    \"physionet_2019\",\n",
    "    \"beijing_multisite_air_quality\",\n",
    "    \"electricity_load_diagrams\",\n",
    "    \"electricity_transformer_temperature\",\n",
    "    \"vessel_ais\",\n",
    "    \"ucr_uea_Wine\",\n",
    "]"
   ]
  },
  {
   "cell_type": "code",
   "execution_count": 3,
   "id": "47402012",
   "metadata": {
    "ExecuteTime": {
     "end_time": "2024-05-24T08:03:19.086404Z",
     "start_time": "2024-05-24T08:02:57.351337Z"
    }
   },
   "outputs": [
    {
     "name": "stderr",
     "output_type": "stream",
     "text": [
      "2024-05-24 17:02:57 [INFO]: Loading the dataset physionet_2012 with TSDB (https://github.com/WenjieDu/Time_Series_Data_Beans)...\n",
      "2024-05-24 17:02:57 [INFO]: Starting preprocessing physionet_2012...\n",
      "2024-05-24 17:02:57 [INFO]: You're using dataset physionet_2012, please cite it properly in your work. You can find its reference information at the below link: \n",
      "https://github.com/WenjieDu/TSDB/tree/main/dataset_profiles/physionet_2012\n",
      "2024-05-24 17:02:57 [INFO]: Dataset physionet_2012 has already been downloaded. Processing directly...\n",
      "2024-05-24 17:02:57 [INFO]: Dataset physionet_2012 has already been cached. Loading from cache directly...\n",
      "2024-05-24 17:02:57 [INFO]: Loaded successfully!\n"
     ]
    }
   ],
   "source": [
    "data = load_specific_dataset('physionet_2012')"
   ]
  },
  {
   "cell_type": "code",
   "execution_count": 4,
   "id": "611430fc",
   "metadata": {
    "ExecuteTime": {
     "end_time": "2024-05-24T08:03:19.102339Z",
     "start_time": "2024-05-24T08:03:19.087339Z"
    }
   },
   "outputs": [
    {
     "name": "stdout",
     "output_type": "stream",
     "text": [
      "dict_keys(['X', 'y', 'ICUType'])\n"
     ]
    }
   ],
   "source": [
    "print(data.keys())"
   ]
  },
  {
   "cell_type": "code",
   "execution_count": 5,
   "id": "9fd71c62",
   "metadata": {
    "ExecuteTime": {
     "end_time": "2024-05-24T08:03:19.895400Z",
     "start_time": "2024-05-24T08:03:19.104338Z"
    }
   },
   "outputs": [],
   "source": [
    "X = data['X']\n",
    "num_samples = len(X['RecordID'].unique())\n",
    "\n",
    "X = X.drop(['RecordID', 'Time'], axis = 1)\n",
    "X = StandardScaler().fit_transform(X.to_numpy())\n",
    "X = X.reshape(num_samples, 48, -1)\n",
    "X_ori = X \n",
    "X = mcar(X, 0.1)\n",
    "dataset = {\"X\": X}"
   ]
  },
  {
   "cell_type": "code",
   "execution_count": 6,
   "id": "a6138cab",
   "metadata": {
    "ExecuteTime": {
     "end_time": "2024-05-24T08:03:19.911394Z",
     "start_time": "2024-05-24T08:03:19.896338Z"
    }
   },
   "outputs": [],
   "source": [
    "n_steps = 48\n",
    "n_features = 37\n",
    "epochs = 30\n",
    "batch_size = 128\n",
    "optimizer = Adam(lr=0.001, weight_decay=1e-5)"
   ]
  },
  {
   "cell_type": "code",
   "execution_count": 38,
   "id": "ef540b9c",
   "metadata": {
    "ExecuteTime": {
     "end_time": "2024-05-24T12:24:07.467778Z",
     "start_time": "2024-05-24T12:24:07.449756Z"
    }
   },
   "outputs": [
    {
     "data": {
      "text/plain": [
       "11988"
      ]
     },
     "execution_count": 38,
     "metadata": {},
     "output_type": "execute_result"
    }
   ],
   "source": [
    "num_samples"
   ]
  },
  {
   "cell_type": "markdown",
   "id": "f742113e",
   "metadata": {},
   "source": [
    "# SAITS"
   ]
  },
  {
   "cell_type": "code",
   "execution_count": 7,
   "id": "70e802f3",
   "metadata": {
    "ExecuteTime": {
     "end_time": "2024-05-24T08:05:14.568594Z",
     "start_time": "2024-05-24T08:03:19.913330Z"
    }
   },
   "outputs": [
    {
     "name": "stderr",
     "output_type": "stream",
     "text": [
      "2024-05-24 17:03:19 [INFO]: No given device, using default device: cuda\n",
      "2024-05-24 17:03:19 [WARNING]: ‼️ saving_path not given. Model files and tensorboard file will not be saved.\n",
      "2024-05-24 17:03:20 [INFO]: SAITS initialized with the given hyperparameters, the number of trainable parameters: 37,174\n",
      "2024-05-24 17:03:27 [INFO]: Epoch 001 - training loss: 1.1264\n",
      "2024-05-24 17:03:31 [INFO]: Epoch 002 - training loss: 0.8107\n",
      "2024-05-24 17:03:35 [INFO]: Epoch 003 - training loss: 0.7112\n",
      "2024-05-24 17:03:38 [INFO]: Epoch 004 - training loss: 0.6629\n",
      "2024-05-24 17:03:42 [INFO]: Epoch 005 - training loss: 0.6340\n",
      "2024-05-24 17:03:46 [INFO]: Epoch 006 - training loss: 0.6144\n",
      "2024-05-24 17:03:49 [INFO]: Epoch 007 - training loss: 0.6006\n",
      "2024-05-24 17:03:53 [INFO]: Epoch 008 - training loss: 0.5890\n",
      "2024-05-24 17:03:57 [INFO]: Epoch 009 - training loss: 0.5810\n",
      "2024-05-24 17:04:00 [INFO]: Epoch 010 - training loss: 0.5735\n",
      "2024-05-24 17:04:04 [INFO]: Epoch 011 - training loss: 0.5662\n",
      "2024-05-24 17:04:08 [INFO]: Epoch 012 - training loss: 0.5610\n",
      "2024-05-24 17:04:11 [INFO]: Epoch 013 - training loss: 0.5561\n",
      "2024-05-24 17:04:15 [INFO]: Epoch 014 - training loss: 0.5521\n",
      "2024-05-24 17:04:19 [INFO]: Epoch 015 - training loss: 0.5486\n",
      "2024-05-24 17:04:23 [INFO]: Epoch 016 - training loss: 0.5452\n",
      "2024-05-24 17:04:26 [INFO]: Epoch 017 - training loss: 0.5414\n",
      "2024-05-24 17:04:30 [INFO]: Epoch 018 - training loss: 0.5387\n",
      "2024-05-24 17:04:34 [INFO]: Epoch 019 - training loss: 0.5357\n",
      "2024-05-24 17:04:37 [INFO]: Epoch 020 - training loss: 0.5332\n",
      "2024-05-24 17:04:41 [INFO]: Epoch 021 - training loss: 0.5311\n",
      "2024-05-24 17:04:45 [INFO]: Epoch 022 - training loss: 0.5294\n",
      "2024-05-24 17:04:49 [INFO]: Epoch 023 - training loss: 0.5260\n",
      "2024-05-24 17:04:52 [INFO]: Epoch 024 - training loss: 0.5251\n",
      "2024-05-24 17:04:56 [INFO]: Epoch 025 - training loss: 0.5225\n",
      "2024-05-24 17:05:00 [INFO]: Epoch 026 - training loss: 0.5209\n",
      "2024-05-24 17:05:03 [INFO]: Epoch 027 - training loss: 0.5190\n",
      "2024-05-24 17:05:07 [INFO]: Epoch 028 - training loss: 0.5172\n",
      "2024-05-24 17:05:10 [INFO]: Epoch 029 - training loss: 0.5168\n",
      "2024-05-24 17:05:14 [INFO]: Epoch 030 - training loss: 0.5150\n",
      "2024-05-24 17:05:14 [INFO]: Finished training. The best model is from epoch#30.\n"
     ]
    }
   ],
   "source": [
    "saits = SAITS(\n",
    "    n_steps=n_steps, \n",
    "    n_features=n_features,\n",
    "    n_layers=2,\n",
    "    d_model=32,\n",
    "    n_heads=2,\n",
    "    d_k=16,\n",
    "    d_v=16,\n",
    "    d_ffn=32,\n",
    "    dropout=0.1,\n",
    "    batch_size=batch_size, \n",
    "    epochs=epochs,\n",
    "    optimizer=optimizer\n",
    ")\n",
    "\n",
    "saits.fit(dataset)"
   ]
  },
  {
   "cell_type": "code",
   "execution_count": 8,
   "id": "6d282b4f",
   "metadata": {
    "ExecuteTime": {
     "end_time": "2024-05-24T08:05:15.681656Z",
     "start_time": "2024-05-24T08:05:14.571596Z"
    }
   },
   "outputs": [],
   "source": [
    "saits_imputation = saits.impute(dataset)\n",
    "saits_indicating_mask = np.isnan(X) ^ np.isnan(X_ori)"
   ]
  },
  {
   "cell_type": "code",
   "execution_count": 23,
   "id": "2198bcf9",
   "metadata": {
    "ExecuteTime": {
     "end_time": "2024-05-24T08:40:32.835836Z",
     "start_time": "2024-05-24T08:40:31.189928Z"
    }
   },
   "outputs": [],
   "source": [
    "saits_mae = calc_mae(saits_imputation, np.nan_to_num(X_ori), saits_indicating_mask)\n",
    "saits_mse = calc_mse(saits_imputation, np.nan_to_num(X_ori), saits_indicating_mask)\n",
    "saits_mre = calc_mre(saits_imputation, np.nan_to_num(X_ori), saits_indicating_mask)\n",
    "saits_rmse = calc_rmse(saits_imputation, np.nan_to_num(X_ori), saits_indicating_mask)"
   ]
  },
  {
   "cell_type": "code",
   "execution_count": 25,
   "id": "16a97d87",
   "metadata": {
    "ExecuteTime": {
     "end_time": "2024-05-24T08:40:51.014132Z",
     "start_time": "2024-05-24T08:40:50.999132Z"
    }
   },
   "outputs": [
    {
     "name": "stdout",
     "output_type": "stream",
     "text": [
      "saits_mae : 0.29004251595569447, saits_mae : 0.3596137593654933, saits_mae : 0.4167647586318705, saits_rmse : 0.599678046426158\n"
     ]
    }
   ],
   "source": [
    "print(f'saits_mae : {saits_mae}, saits_mae : {saits_mse}, saits_mae : {saits_mre}, saits_rmse : {saits_rmse}')"
   ]
  },
  {
   "cell_type": "markdown",
   "id": "5096fcf6",
   "metadata": {},
   "source": [
    "# CSDI"
   ]
  },
  {
   "cell_type": "code",
   "execution_count": 11,
   "id": "06f49388",
   "metadata": {
    "ExecuteTime": {
     "end_time": "2024-05-24T08:10:24.685594Z",
     "start_time": "2024-05-24T08:05:16.950596Z"
    }
   },
   "outputs": [
    {
     "name": "stderr",
     "output_type": "stream",
     "text": [
      "2024-05-24 17:05:16 [INFO]: No given device, using default device: cuda\n",
      "2024-05-24 17:05:16 [WARNING]: ‼️ saving_path not given. Model files and tensorboard file will not be saved.\n",
      "2024-05-24 17:05:16 [INFO]: CSDI initialized with the given hyperparameters, the number of trainable parameters: 10,280\n",
      "2024-05-24 17:05:30 [INFO]: Epoch 001 - training loss: 0.8175\n",
      "2024-05-24 17:05:40 [INFO]: Epoch 002 - training loss: 0.6443\n",
      "2024-05-24 17:05:50 [INFO]: Epoch 003 - training loss: 0.6190\n",
      "2024-05-24 17:06:00 [INFO]: Epoch 004 - training loss: 0.6097\n",
      "2024-05-24 17:06:10 [INFO]: Epoch 005 - training loss: 0.6025\n",
      "2024-05-24 17:06:20 [INFO]: Epoch 006 - training loss: 0.5965\n",
      "2024-05-24 17:06:30 [INFO]: Epoch 007 - training loss: 0.5956\n",
      "2024-05-24 17:06:40 [INFO]: Epoch 008 - training loss: 0.5856\n",
      "2024-05-24 17:06:50 [INFO]: Epoch 009 - training loss: 0.5829\n",
      "2024-05-24 17:07:02 [INFO]: Epoch 010 - training loss: 0.5818\n",
      "2024-05-24 17:07:13 [INFO]: Epoch 011 - training loss: 0.5713\n",
      "2024-05-24 17:07:23 [INFO]: Epoch 012 - training loss: 0.5717\n",
      "2024-05-24 17:07:33 [INFO]: Epoch 013 - training loss: 0.5693\n",
      "2024-05-24 17:07:43 [INFO]: Epoch 014 - training loss: 0.5717\n",
      "2024-05-24 17:07:53 [INFO]: Epoch 015 - training loss: 0.5619\n",
      "2024-05-24 17:08:03 [INFO]: Epoch 016 - training loss: 0.5585\n",
      "2024-05-24 17:08:14 [INFO]: Epoch 017 - training loss: 0.5515\n",
      "2024-05-24 17:08:24 [INFO]: Epoch 018 - training loss: 0.5485\n",
      "2024-05-24 17:08:34 [INFO]: Epoch 019 - training loss: 0.5536\n",
      "2024-05-24 17:08:44 [INFO]: Epoch 020 - training loss: 0.5489\n",
      "2024-05-24 17:08:54 [INFO]: Epoch 021 - training loss: 0.5484\n",
      "2024-05-24 17:09:04 [INFO]: Epoch 022 - training loss: 0.5446\n",
      "2024-05-24 17:09:14 [INFO]: Epoch 023 - training loss: 0.5413\n",
      "2024-05-24 17:09:24 [INFO]: Epoch 024 - training loss: 0.5374\n",
      "2024-05-24 17:09:34 [INFO]: Epoch 025 - training loss: 0.5386\n",
      "2024-05-24 17:09:44 [INFO]: Epoch 026 - training loss: 0.5353\n",
      "2024-05-24 17:09:54 [INFO]: Epoch 027 - training loss: 0.5365\n",
      "2024-05-24 17:10:04 [INFO]: Epoch 028 - training loss: 0.5370\n",
      "2024-05-24 17:10:14 [INFO]: Epoch 029 - training loss: 0.5426\n",
      "2024-05-24 17:10:24 [INFO]: Epoch 030 - training loss: 0.5327\n",
      "2024-05-24 17:10:24 [INFO]: Finished training. The best model is from epoch#30.\n"
     ]
    }
   ],
   "source": [
    " csdi = CSDI(\n",
    "    n_steps=n_steps,\n",
    "    n_features=n_features,\n",
    "    n_layers=2,\n",
    "    n_channels=8,\n",
    "    d_time_embedding=32,\n",
    "    d_feature_embedding=3,\n",
    "    d_diffusion_embedding=32,\n",
    "    n_diffusion_steps=5,\n",
    "    n_heads=4,\n",
    "    batch_size=batch_size,\n",
    "    epochs=epochs,\n",
    "    optimizer=optimizer\n",
    ")\n",
    "csdi.fit(dataset)  # train the model on the dataset"
   ]
  },
  {
   "cell_type": "code",
   "execution_count": 12,
   "id": "56978308",
   "metadata": {
    "ExecuteTime": {
     "end_time": "2024-05-24T08:10:35.678592Z",
     "start_time": "2024-05-24T08:10:24.687596Z"
    }
   },
   "outputs": [],
   "source": [
    "csdi_imputation = csdi.impute(dataset)\n",
    "csdi_imputation = csdi_imputation.reshape(num_samples, 48, -1)\n",
    "csdi_indicating_mask = np.isnan(X) ^ np.isnan(X_ori)"
   ]
  },
  {
   "cell_type": "code",
   "execution_count": 26,
   "id": "416adabf",
   "metadata": {
    "ExecuteTime": {
     "end_time": "2024-05-24T08:41:20.615930Z",
     "start_time": "2024-05-24T08:41:18.987221Z"
    }
   },
   "outputs": [],
   "source": [
    "csdi_mae = calc_mae(csdi_imputation, np.nan_to_num(X_ori), csdi_indicating_mask)\n",
    "csdi_mse = calc_mse(csdi_imputation, np.nan_to_num(X_ori), csdi_indicating_mask)\n",
    "csdi_mre = calc_mre(csdi_imputation, np.nan_to_num(X_ori), csdi_indicating_mask)\n",
    "csdi_rmse = calc_rmse(csdi_imputation, np.nan_to_num(X_ori), csdi_indicating_mask)"
   ]
  },
  {
   "cell_type": "code",
   "execution_count": 27,
   "id": "a1b29583",
   "metadata": {
    "ExecuteTime": {
     "end_time": "2024-05-24T08:41:20.864853Z",
     "start_time": "2024-05-24T08:41:20.849853Z"
    }
   },
   "outputs": [
    {
     "name": "stdout",
     "output_type": "stream",
     "text": [
      "csdi_mae : 0.4642064665419674, csdi_mse : 0.6363236273985146, csdi_mre : 0.6670225409755765, csdi_rmse: 0.7976989578772901\n"
     ]
    }
   ],
   "source": [
    "print(f'csdi_mae : {csdi_mae}, csdi_mse : {csdi_mse}, csdi_mre : {csdi_mre}, csdi_rmse: {csdi_rmse}')"
   ]
  },
  {
   "cell_type": "markdown",
   "id": "4e4feb90",
   "metadata": {},
   "source": [
    "saits.save(\"save_it_here/saits_physionet2012.pypots\")  # save the model for future use\n",
    "saits.load(\"save_it_here/saits_physionet2012.pypots\")  # reload the serialized model file for following imputation or training"
   ]
  },
  {
   "cell_type": "markdown",
   "id": "27f1a228",
   "metadata": {},
   "source": [
    "# BRITS"
   ]
  },
  {
   "cell_type": "code",
   "execution_count": 15,
   "id": "0a9201bc",
   "metadata": {
    "ExecuteTime": {
     "end_time": "2024-05-24T08:26:27.998757Z",
     "start_time": "2024-05-24T08:10:36.968597Z"
    }
   },
   "outputs": [
    {
     "name": "stderr",
     "output_type": "stream",
     "text": [
      "2024-05-24 17:10:36 [INFO]: No given device, using default device: cuda\n",
      "2024-05-24 17:10:36 [WARNING]: ‼️ saving_path not given. Model files and tensorboard file will not be saved.\n",
      "2024-05-24 17:10:36 [INFO]: BRITS initialized with the given hyperparameters, the number of trainable parameters: 43,696\n",
      "2024-05-24 17:11:41 [INFO]: Epoch 001 - training loss: 1.2099\n",
      "2024-05-24 17:12:11 [INFO]: Epoch 002 - training loss: 0.9196\n",
      "2024-05-24 17:12:42 [INFO]: Epoch 003 - training loss: 0.8266\n",
      "2024-05-24 17:13:12 [INFO]: Epoch 004 - training loss: 0.7812\n",
      "2024-05-24 17:13:43 [INFO]: Epoch 005 - training loss: 0.7518\n",
      "2024-05-24 17:14:13 [INFO]: Epoch 006 - training loss: 0.7315\n",
      "2024-05-24 17:14:44 [INFO]: Epoch 007 - training loss: 0.7169\n",
      "2024-05-24 17:15:15 [INFO]: Epoch 008 - training loss: 0.7054\n",
      "2024-05-24 17:15:46 [INFO]: Epoch 009 - training loss: 0.6961\n",
      "2024-05-24 17:16:18 [INFO]: Epoch 010 - training loss: 0.6880\n",
      "2024-05-24 17:16:49 [INFO]: Epoch 011 - training loss: 0.6813\n",
      "2024-05-24 17:17:20 [INFO]: Epoch 012 - training loss: 0.6760\n",
      "2024-05-24 17:17:51 [INFO]: Epoch 013 - training loss: 0.6714\n",
      "2024-05-24 17:18:21 [INFO]: Epoch 014 - training loss: 0.6676\n",
      "2024-05-24 17:18:52 [INFO]: Epoch 015 - training loss: 0.6642\n",
      "2024-05-24 17:19:22 [INFO]: Epoch 016 - training loss: 0.6614\n",
      "2024-05-24 17:19:53 [INFO]: Epoch 017 - training loss: 0.6587\n",
      "2024-05-24 17:20:23 [INFO]: Epoch 018 - training loss: 0.6566\n",
      "2024-05-24 17:20:54 [INFO]: Epoch 019 - training loss: 0.6545\n",
      "2024-05-24 17:21:24 [INFO]: Epoch 020 - training loss: 0.6530\n",
      "2024-05-24 17:21:55 [INFO]: Epoch 021 - training loss: 0.6514\n",
      "2024-05-24 17:22:25 [INFO]: Epoch 022 - training loss: 0.6501\n",
      "2024-05-24 17:22:56 [INFO]: Epoch 023 - training loss: 0.6486\n",
      "2024-05-24 17:23:26 [INFO]: Epoch 024 - training loss: 0.6473\n",
      "2024-05-24 17:23:56 [INFO]: Epoch 025 - training loss: 0.6461\n",
      "2024-05-24 17:24:26 [INFO]: Epoch 026 - training loss: 0.6453\n",
      "2024-05-24 17:24:57 [INFO]: Epoch 027 - training loss: 0.6442\n",
      "2024-05-24 17:25:27 [INFO]: Epoch 028 - training loss: 0.6435\n",
      "2024-05-24 17:25:57 [INFO]: Epoch 029 - training loss: 0.6422\n",
      "2024-05-24 17:26:27 [INFO]: Epoch 030 - training loss: 0.6415\n",
      "2024-05-24 17:26:27 [INFO]: Finished training. The best model is from epoch#30.\n"
     ]
    }
   ],
   "source": [
    "brits = BRITS(\n",
    "    n_steps=n_steps,\n",
    "    n_features=n_features,\n",
    "    rnn_hidden_size=32,\n",
    "    batch_size=batch_size,\n",
    "    epochs=epochs,\n",
    "    optimizer=Adam(lr=0.001, weight_decay=1e-5)\n",
    ")\n",
    "\n",
    "brits.fit(dataset)"
   ]
  },
  {
   "cell_type": "code",
   "execution_count": 16,
   "id": "b6b10ee5",
   "metadata": {
    "ExecuteTime": {
     "end_time": "2024-05-24T08:27:19.862991Z",
     "start_time": "2024-05-24T08:26:28.000757Z"
    }
   },
   "outputs": [],
   "source": [
    "brits_imputation = brits.impute(dataset)\n",
    "brits_indicating_mask = np.isnan(X) ^ np.isnan(X_ori)"
   ]
  },
  {
   "cell_type": "code",
   "execution_count": 28,
   "id": "9f8d35ab",
   "metadata": {
    "ExecuteTime": {
     "end_time": "2024-05-24T08:41:55.010550Z",
     "start_time": "2024-05-24T08:41:53.405489Z"
    }
   },
   "outputs": [],
   "source": [
    "brits_mae = calc_mae(brits_imputation, np.nan_to_num(X_ori), brits_indicating_mask) \n",
    "brits_mse = calc_mse(brits_imputation, np.nan_to_num(X_ori), brits_indicating_mask) \n",
    "brits_mre = calc_mre(brits_imputation, np.nan_to_num(X_ori), brits_indicating_mask)\n",
    "brits_rmse = calc_rmse(brits_imputation, np.nan_to_num(X_ori), brits_indicating_mask) "
   ]
  },
  {
   "cell_type": "code",
   "execution_count": 29,
   "id": "d4e3748e",
   "metadata": {
    "ExecuteTime": {
     "end_time": "2024-05-24T08:41:55.632885Z",
     "start_time": "2024-05-24T08:41:55.624893Z"
    }
   },
   "outputs": [
    {
     "name": "stdout",
     "output_type": "stream",
     "text": [
      "brits_mae : 0.2576348501173535, brits_mse : 0.3563537772900153, brits_mre : 0.37019788554281735, brits_rmse : 0.5969537480324714\n"
     ]
    }
   ],
   "source": [
    "print(f'brits_mae : {brits_mae}, brits_mse : {brits_mse}, brits_mre : {brits_mre}, brits_rmse : {brits_rmse}')"
   ]
  },
  {
   "cell_type": "markdown",
   "id": "752b5451",
   "metadata": {},
   "source": [
    "# iTransformer"
   ]
  },
  {
   "cell_type": "code",
   "execution_count": 34,
   "id": "9b8eddd3",
   "metadata": {
    "ExecuteTime": {
     "end_time": "2024-05-24T10:44:22.652718Z",
     "start_time": "2024-05-24T10:43:01.212796Z"
    }
   },
   "outputs": [
    {
     "name": "stderr",
     "output_type": "stream",
     "text": [
      "2024-05-24 19:43:01 [INFO]: No given device, using default device: cuda\n",
      "2024-05-24 19:43:01 [WARNING]: ‼️ saving_path not given. Model files and tensorboard file will not be saved.\n",
      "2024-05-24 19:43:01 [INFO]: iTransformer initialized with the given hyperparameters, the number of trainable parameters: 15,824\n",
      "2024-05-24 19:43:03 [INFO]: Epoch 001 - training loss: 1.0713\n",
      "2024-05-24 19:43:06 [INFO]: Epoch 002 - training loss: 0.8513\n",
      "2024-05-24 19:43:09 [INFO]: Epoch 003 - training loss: 0.7985\n",
      "2024-05-24 19:43:12 [INFO]: Epoch 004 - training loss: 0.7712\n",
      "2024-05-24 19:43:14 [INFO]: Epoch 005 - training loss: 0.7552\n",
      "2024-05-24 19:43:17 [INFO]: Epoch 006 - training loss: 0.7431\n",
      "2024-05-24 19:43:20 [INFO]: Epoch 007 - training loss: 0.7371\n",
      "2024-05-24 19:43:22 [INFO]: Epoch 008 - training loss: 0.7312\n",
      "2024-05-24 19:43:25 [INFO]: Epoch 009 - training loss: 0.7274\n",
      "2024-05-24 19:43:28 [INFO]: Epoch 010 - training loss: 0.7260\n",
      "2024-05-24 19:43:31 [INFO]: Epoch 011 - training loss: 0.7212\n",
      "2024-05-24 19:43:33 [INFO]: Epoch 012 - training loss: 0.7192\n",
      "2024-05-24 19:43:36 [INFO]: Epoch 013 - training loss: 0.7182\n",
      "2024-05-24 19:43:39 [INFO]: Epoch 014 - training loss: 0.7158\n",
      "2024-05-24 19:43:42 [INFO]: Epoch 015 - training loss: 0.7145\n",
      "2024-05-24 19:43:44 [INFO]: Epoch 016 - training loss: 0.7138\n",
      "2024-05-24 19:43:47 [INFO]: Epoch 017 - training loss: 0.7129\n",
      "2024-05-24 19:43:50 [INFO]: Epoch 018 - training loss: 0.7124\n",
      "2024-05-24 19:43:52 [INFO]: Epoch 019 - training loss: 0.7094\n",
      "2024-05-24 19:43:55 [INFO]: Epoch 020 - training loss: 0.7095\n",
      "2024-05-24 19:43:58 [INFO]: Epoch 021 - training loss: 0.7088\n",
      "2024-05-24 19:44:01 [INFO]: Epoch 022 - training loss: 0.7089\n",
      "2024-05-24 19:44:03 [INFO]: Epoch 023 - training loss: 0.7066\n",
      "2024-05-24 19:44:06 [INFO]: Epoch 024 - training loss: 0.7059\n",
      "2024-05-24 19:44:09 [INFO]: Epoch 025 - training loss: 0.7045\n",
      "2024-05-24 19:44:11 [INFO]: Epoch 026 - training loss: 0.7052\n",
      "2024-05-24 19:44:14 [INFO]: Epoch 027 - training loss: 0.7036\n",
      "2024-05-24 19:44:17 [INFO]: Epoch 028 - training loss: 0.7051\n",
      "2024-05-24 19:44:19 [INFO]: Epoch 029 - training loss: 0.7041\n",
      "2024-05-24 19:44:22 [INFO]: Epoch 030 - training loss: 0.7035\n",
      "2024-05-24 19:44:22 [INFO]: Finished training. The best model is from epoch#30.\n"
     ]
    }
   ],
   "source": [
    "itransformer = iTransformer(\n",
    "    n_steps=n_steps,\n",
    "    n_features=n_features,\n",
    "    n_layers=2,\n",
    "    d_model=32,\n",
    "    n_heads=2,\n",
    "    d_k=16,\n",
    "    d_v=16,\n",
    "    d_ffn=32,\n",
    "    dropout=0.1,\n",
    "    batch_size=batch_size,\n",
    "    epochs=epochs,\n",
    "    optimizer=optimizer\n",
    ")\n",
    "\n",
    "itransformer.fit(dataset)"
   ]
  },
  {
   "cell_type": "code",
   "execution_count": 35,
   "id": "cef950a4",
   "metadata": {
    "ExecuteTime": {
     "end_time": "2024-05-24T10:44:23.762120Z",
     "start_time": "2024-05-24T10:44:22.859651Z"
    }
   },
   "outputs": [
    {
     "name": "stderr",
     "output_type": "stream",
     "text": [
      "2024-05-24 19:44:22 [WARNING]: 🚨DeprecationWarning: The method impute is deprecated. Please use `predict` instead.\n"
     ]
    }
   ],
   "source": [
    "itransformer_imputation = itransformer.impute(dataset)\n",
    "itransformer_indicating_mask = np.isnan(X) ^ np.isnan(X_ori)"
   ]
  },
  {
   "cell_type": "code",
   "execution_count": 36,
   "id": "ec6f2258",
   "metadata": {
    "ExecuteTime": {
     "end_time": "2024-05-24T10:44:25.594065Z",
     "start_time": "2024-05-24T10:44:23.970001Z"
    }
   },
   "outputs": [],
   "source": [
    "itransformer_mae = calc_mae(itransformer_imputation, np.nan_to_num(X_ori), itransformer_indicating_mask) \n",
    "itransformer_mse = calc_mse(itransformer_imputation, np.nan_to_num(X_ori), itransformer_indicating_mask) \n",
    "itransformer_mre = calc_mre(itransformer_imputation, np.nan_to_num(X_ori), itransformer_indicating_mask)\n",
    "itransformer_rmse = calc_rmse(itransformer_imputation, np.nan_to_num(X_ori), itransformer_indicating_mask) "
   ]
  },
  {
   "cell_type": "code",
   "execution_count": 37,
   "id": "d7f0afda",
   "metadata": {
    "ExecuteTime": {
     "end_time": "2024-05-24T10:44:25.849999Z",
     "start_time": "2024-05-24T10:44:25.834999Z"
    }
   },
   "outputs": [
    {
     "name": "stdout",
     "output_type": "stream",
     "text": [
      "itransformer_mae : 0.40016157358052423, itransformer_mse : 0.474383479198375, itransformer_mre : 0.5749958452729467, itransformer_rmse : 0.6887550211783395\n"
     ]
    }
   ],
   "source": [
    "print(f'itransformer_mae : {itransformer_mae}, itransformer_mse : {itransformer_mse}, itransformer_mre : {itransformer_mre}, itransformer_rmse : {itransformer_rmse}')"
   ]
  }
 ],
 "metadata": {
  "kernelspec": {
   "display_name": "hellotr",
   "language": "python",
   "name": "hellotr"
  },
  "language_info": {
   "codemirror_mode": {
    "name": "ipython",
    "version": 3
   },
   "file_extension": ".py",
   "mimetype": "text/x-python",
   "name": "python",
   "nbconvert_exporter": "python",
   "pygments_lexer": "ipython3",
   "version": "3.8.19"
  },
  "toc": {
   "base_numbering": 1,
   "nav_menu": {},
   "number_sections": true,
   "sideBar": true,
   "skip_h1_title": false,
   "title_cell": "Table of Contents",
   "title_sidebar": "Contents",
   "toc_cell": false,
   "toc_position": {},
   "toc_section_display": true,
   "toc_window_display": false
  },
  "varInspector": {
   "cols": {
    "lenName": 16,
    "lenType": 16,
    "lenVar": 40
   },
   "kernels_config": {
    "python": {
     "delete_cmd_postfix": "",
     "delete_cmd_prefix": "del ",
     "library": "var_list.py",
     "varRefreshCmd": "print(var_dic_list())"
    },
    "r": {
     "delete_cmd_postfix": ") ",
     "delete_cmd_prefix": "rm(",
     "library": "var_list.r",
     "varRefreshCmd": "cat(var_dic_list()) "
    }
   },
   "types_to_exclude": [
    "module",
    "function",
    "builtin_function_or_method",
    "instance",
    "_Feature"
   ],
   "window_display": false
  }
 },
 "nbformat": 4,
 "nbformat_minor": 5
}
