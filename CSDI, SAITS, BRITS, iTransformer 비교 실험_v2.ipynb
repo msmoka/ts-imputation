{
 "cells": [
  {
   "cell_type": "code",
   "execution_count": 1,
   "id": "8df69c8a",
   "metadata": {
    "ExecuteTime": {
     "end_time": "2024-05-24T09:45:14.522030Z",
     "start_time": "2024-05-24T09:45:11.293038Z"
    }
   },
   "outputs": [],
   "source": [
    "# Data preprocessing. Tedious, but PyPOTS can help.\n",
    "import numpy as np\n",
    "from sklearn.preprocessing import StandardScaler\n",
    "from pygrinder import mcar\n",
    "from pypots.data import load_specific_dataset"
   ]
  },
  {
   "cell_type": "code",
   "execution_count": 29,
   "id": "6082ad69",
   "metadata": {
    "ExecuteTime": {
     "end_time": "2024-05-24T10:45:17.846955Z",
     "start_time": "2024-05-24T10:45:17.827978Z"
    }
   },
   "outputs": [],
   "source": [
    "# Model training. This is PyPOTS showtime.\n",
    "from pypots.imputation import SAITS, CSDI, BRITS, iTransformer, Autoformer\n",
    "from pypots.optim import Adam\n",
    "from pypots.utils.logging import logger\n",
    "from pypots.utils.metrics import calc_mae, calc_mse, calc_mre, calc_rmse\n",
    "from pypots.data.generating import gene_physionet2012"
   ]
  },
  {
   "cell_type": "markdown",
   "id": "c3ef56f5",
   "metadata": {},
   "source": [
    "# Dataset List\n",
    "DATASETS_TO_TEST = [\n",
    "    \"physionet_2012\",\n",
    "    \"physionet_2019\",\n",
    "    \"beijing_multisite_air_quality\",\n",
    "    \"electricity_load_diagrams\",\n",
    "    \"electricity_transformer_temperature\",\n",
    "    \"vessel_ais\",\n",
    "    \"ucr_uea_Wine\",\n",
    "]"
   ]
  },
  {
   "cell_type": "code",
   "execution_count": 3,
   "id": "2b0fcfeb",
   "metadata": {
    "ExecuteTime": {
     "end_time": "2024-05-24T09:45:37.325059Z",
     "start_time": "2024-05-24T09:45:14.539036Z"
    }
   },
   "outputs": [
    {
     "name": "stderr",
     "output_type": "stream",
     "text": [
      "2024-05-24 18:45:14 [INFO]: Loading the dataset physionet_2012 with TSDB (https://github.com/WenjieDu/Time_Series_Data_Beans)...\n",
      "2024-05-24 18:45:14 [INFO]: Starting preprocessing physionet_2012...\n",
      "2024-05-24 18:45:14 [INFO]: You're using dataset physionet_2012, please cite it properly in your work. You can find its reference information at the below link: \n",
      "https://github.com/WenjieDu/TSDB/tree/main/dataset_profiles/physionet_2012\n",
      "2024-05-24 18:45:14 [INFO]: Dataset physionet_2012 has already been downloaded. Processing directly...\n",
      "2024-05-24 18:45:14 [INFO]: Dataset physionet_2012 has already been cached. Loading from cache directly...\n",
      "2024-05-24 18:45:14 [INFO]: Loaded successfully!\n"
     ]
    },
    {
     "name": "stdout",
     "output_type": "stream",
     "text": [
      "dict_keys(['n_classes', 'n_steps', 'n_features', 'train_X', 'train_y', 'train_ICUType', 'val_X', 'val_y', 'val_ICUType', 'test_X', 'test_y', 'test_ICUType', 'scaler', 'val_X_ori', 'test_X_ori', 'test_X_indicating_mask'])\n"
     ]
    }
   ],
   "source": [
    "physionet2012_dataset = gene_physionet2012(artificially_missing_rate=0.1)\n",
    "\n",
    "print(physionet2012_dataset.keys())"
   ]
  },
  {
   "cell_type": "code",
   "execution_count": 4,
   "id": "47402012",
   "metadata": {
    "ExecuteTime": {
     "end_time": "2024-05-24T09:45:37.341093Z",
     "start_time": "2024-05-24T09:45:37.327024Z"
    }
   },
   "outputs": [],
   "source": [
    "dataset_for_training = {\n",
    "    \"X\": physionet2012_dataset['train_X'],\n",
    "}\n",
    "\n",
    "dataset_for_validating = {\n",
    "    \"X\": physionet2012_dataset['val_X'],\n",
    "    \"X_ori\": physionet2012_dataset['val_X_ori'],\n",
    "}\n",
    "\n",
    "dataset_for_testing = {\n",
    "    \"X\": physionet2012_dataset['test_X'],\n",
    "}"
   ]
  },
  {
   "cell_type": "code",
   "execution_count": 5,
   "id": "a6138cab",
   "metadata": {
    "ExecuteTime": {
     "end_time": "2024-05-24T09:45:37.357057Z",
     "start_time": "2024-05-24T09:45:37.343025Z"
    }
   },
   "outputs": [],
   "source": [
    "n_steps = physionet2012_dataset['n_steps']\n",
    "n_features = physionet2012_dataset['n_features']\n",
    "epochs = 30\n",
    "batch_size = 128\n",
    "optimizer = Adam(lr=0.001, weight_decay=1e-5)"
   ]
  },
  {
   "cell_type": "code",
   "execution_count": 39,
   "id": "81311f2a",
   "metadata": {
    "ExecuteTime": {
     "end_time": "2024-05-24T12:23:26.920220Z",
     "start_time": "2024-05-24T12:23:26.904219Z"
    }
   },
   "outputs": [
    {
     "data": {
      "text/plain": [
       "7672"
      ]
     },
     "execution_count": 39,
     "metadata": {},
     "output_type": "execute_result"
    }
   ],
   "source": [
    "len(dataset_for_training['X'])"
   ]
  },
  {
   "cell_type": "code",
   "execution_count": 40,
   "id": "b3f8d888",
   "metadata": {
    "ExecuteTime": {
     "end_time": "2024-05-24T12:23:33.443694Z",
     "start_time": "2024-05-24T12:23:33.435691Z"
    }
   },
   "outputs": [
    {
     "data": {
      "text/plain": [
       "1918"
      ]
     },
     "execution_count": 40,
     "metadata": {},
     "output_type": "execute_result"
    }
   ],
   "source": [
    "len(dataset_for_validating['X'])"
   ]
  },
  {
   "cell_type": "code",
   "execution_count": 41,
   "id": "24fc2d7d",
   "metadata": {
    "ExecuteTime": {
     "end_time": "2024-05-24T12:23:39.361765Z",
     "start_time": "2024-05-24T12:23:39.347767Z"
    }
   },
   "outputs": [
    {
     "data": {
      "text/plain": [
       "1918"
      ]
     },
     "execution_count": 41,
     "metadata": {},
     "output_type": "execute_result"
    }
   ],
   "source": [
    "len(dataset_for_validating['X_ori'])"
   ]
  },
  {
   "cell_type": "code",
   "execution_count": 42,
   "id": "6e36b3de",
   "metadata": {
    "ExecuteTime": {
     "end_time": "2024-05-24T12:23:42.524847Z",
     "start_time": "2024-05-24T12:23:42.519836Z"
    }
   },
   "outputs": [
    {
     "data": {
      "text/plain": [
       "2398"
      ]
     },
     "execution_count": 42,
     "metadata": {},
     "output_type": "execute_result"
    }
   ],
   "source": [
    "len(dataset_for_testing['X'])"
   ]
  },
  {
   "cell_type": "markdown",
   "id": "f742113e",
   "metadata": {},
   "source": [
    "# SAITS"
   ]
  },
  {
   "cell_type": "code",
   "execution_count": 6,
   "id": "70e802f3",
   "metadata": {
    "ExecuteTime": {
     "end_time": "2024-05-24T09:46:52.653930Z",
     "start_time": "2024-05-24T09:45:37.358031Z"
    }
   },
   "outputs": [
    {
     "name": "stderr",
     "output_type": "stream",
     "text": [
      "2024-05-24 18:45:37 [INFO]: No given device, using default device: cuda\n",
      "2024-05-24 18:45:37 [WARNING]: ‼️ saving_path not given. Model files and tensorboard file will not be saved.\n",
      "2024-05-24 18:45:37 [INFO]: SAITS initialized with the given hyperparameters, the number of trainable parameters: 37,174\n",
      "2024-05-24 18:45:41 [INFO]: Epoch 001 - training loss: 1.2528, validation loss: 0.6678\n",
      "2024-05-24 18:45:44 [INFO]: Epoch 002 - training loss: 0.9326, validation loss: 0.5209\n",
      "2024-05-24 18:45:46 [INFO]: Epoch 003 - training loss: 0.7892, validation loss: 0.4570\n",
      "2024-05-24 18:45:49 [INFO]: Epoch 004 - training loss: 0.7174, validation loss: 0.4233\n",
      "2024-05-24 18:45:51 [INFO]: Epoch 005 - training loss: 0.6740, validation loss: 0.4085\n",
      "2024-05-24 18:45:53 [INFO]: Epoch 006 - training loss: 0.6443, validation loss: 0.3961\n",
      "2024-05-24 18:45:56 [INFO]: Epoch 007 - training loss: 0.6261, validation loss: 0.3881\n",
      "2024-05-24 18:45:58 [INFO]: Epoch 008 - training loss: 0.6111, validation loss: 0.3834\n",
      "2024-05-24 18:46:01 [INFO]: Epoch 009 - training loss: 0.5990, validation loss: 0.3782\n",
      "2024-05-24 18:46:03 [INFO]: Epoch 010 - training loss: 0.5914, validation loss: 0.3734\n",
      "2024-05-24 18:46:06 [INFO]: Epoch 011 - training loss: 0.5833, validation loss: 0.3707\n",
      "2024-05-24 18:46:08 [INFO]: Epoch 012 - training loss: 0.5761, validation loss: 0.3667\n",
      "2024-05-24 18:46:11 [INFO]: Epoch 013 - training loss: 0.5699, validation loss: 0.3617\n",
      "2024-05-24 18:46:13 [INFO]: Epoch 014 - training loss: 0.5670, validation loss: 0.3602\n",
      "2024-05-24 18:46:15 [INFO]: Epoch 015 - training loss: 0.5619, validation loss: 0.3608\n",
      "2024-05-24 18:46:18 [INFO]: Epoch 016 - training loss: 0.5566, validation loss: 0.3574\n",
      "2024-05-24 18:46:20 [INFO]: Epoch 017 - training loss: 0.5552, validation loss: 0.3539\n",
      "2024-05-24 18:46:23 [INFO]: Epoch 018 - training loss: 0.5510, validation loss: 0.3518\n",
      "2024-05-24 18:46:25 [INFO]: Epoch 019 - training loss: 0.5478, validation loss: 0.3485\n",
      "2024-05-24 18:46:28 [INFO]: Epoch 020 - training loss: 0.5446, validation loss: 0.3480\n",
      "2024-05-24 18:46:30 [INFO]: Epoch 021 - training loss: 0.5426, validation loss: 0.3458\n",
      "2024-05-24 18:46:33 [INFO]: Epoch 022 - training loss: 0.5385, validation loss: 0.3457\n",
      "2024-05-24 18:46:35 [INFO]: Epoch 023 - training loss: 0.5367, validation loss: 0.3412\n",
      "2024-05-24 18:46:38 [INFO]: Epoch 024 - training loss: 0.5336, validation loss: 0.3403\n",
      "2024-05-24 18:46:40 [INFO]: Epoch 025 - training loss: 0.5324, validation loss: 0.3387\n",
      "2024-05-24 18:46:42 [INFO]: Epoch 026 - training loss: 0.5295, validation loss: 0.3356\n",
      "2024-05-24 18:46:45 [INFO]: Epoch 027 - training loss: 0.5288, validation loss: 0.3365\n",
      "2024-05-24 18:46:47 [INFO]: Epoch 028 - training loss: 0.5260, validation loss: 0.3362\n",
      "2024-05-24 18:46:50 [INFO]: Epoch 029 - training loss: 0.5255, validation loss: 0.3347\n",
      "2024-05-24 18:46:52 [INFO]: Epoch 030 - training loss: 0.5217, validation loss: 0.3325\n",
      "2024-05-24 18:46:52 [INFO]: Finished training. The best model is from epoch#30.\n"
     ]
    }
   ],
   "source": [
    "saits = SAITS(\n",
    "    n_steps=n_steps, \n",
    "    n_features=n_features,\n",
    "    n_layers=2,\n",
    "    d_model=32,\n",
    "    n_heads=2,\n",
    "    d_k=16,\n",
    "    d_v=16,\n",
    "    d_ffn=32,\n",
    "    dropout=0.1,\n",
    "    batch_size=batch_size, \n",
    "    epochs=epochs,\n",
    "    optimizer=optimizer\n",
    ")\n",
    "\n",
    "saits.fit(train_set=dataset_for_training, val_set=dataset_for_validating)"
   ]
  },
  {
   "cell_type": "code",
   "execution_count": 7,
   "id": "6d282b4f",
   "metadata": {
    "ExecuteTime": {
     "end_time": "2024-05-24T09:46:52.871901Z",
     "start_time": "2024-05-24T09:46:52.655930Z"
    }
   },
   "outputs": [],
   "source": [
    "saits_results = saits.predict(dataset_for_testing)\n",
    "saits_imputation = saits_results[\"imputation\"]"
   ]
  },
  {
   "cell_type": "code",
   "execution_count": 8,
   "id": "2198bcf9",
   "metadata": {
    "ExecuteTime": {
     "end_time": "2024-05-24T09:46:53.078947Z",
     "start_time": "2024-05-24T09:46:52.872901Z"
    }
   },
   "outputs": [],
   "source": [
    "saits_mae = calc_mae(saits_imputation,\n",
    "    physionet2012_dataset['test_X_ori'],\n",
    "    physionet2012_dataset['test_X_indicating_mask']\n",
    "                    )\n",
    "saits_mse = calc_mse( saits_imputation,\n",
    "    physionet2012_dataset['test_X_ori'],\n",
    "    physionet2012_dataset['test_X_indicating_mask']\n",
    "                    )\n",
    "saits_mre = calc_mre( saits_imputation,\n",
    "    physionet2012_dataset['test_X_ori'],\n",
    "    physionet2012_dataset['test_X_indicating_mask']\n",
    "                    )\n",
    "saits_rmse = calc_rmse( saits_imputation,\n",
    "    physionet2012_dataset['test_X_ori'],\n",
    "    physionet2012_dataset['test_X_indicating_mask']\n",
    "                      )"
   ]
  },
  {
   "cell_type": "code",
   "execution_count": 43,
   "id": "16a97d87",
   "metadata": {
    "ExecuteTime": {
     "end_time": "2024-05-24T12:34:53.884659Z",
     "start_time": "2024-05-24T12:34:53.880633Z"
    }
   },
   "outputs": [
    {
     "name": "stdout",
     "output_type": "stream",
     "text": [
      "saits_mae : 0.304007301218049, saits_mse : 0.3783244941753913, saits_mre : 0.43161903693952236, saits_rmse : 0.6150808842545762\n"
     ]
    }
   ],
   "source": [
    "print(f'saits_mae : {saits_mae}, saits_mse : {saits_mse}, saits_mre : {saits_mre}, saits_rmse : {saits_rmse}')"
   ]
  },
  {
   "cell_type": "markdown",
   "id": "5096fcf6",
   "metadata": {},
   "source": [
    "# CSDI"
   ]
  },
  {
   "cell_type": "code",
   "execution_count": 10,
   "id": "06f49388",
   "metadata": {
    "ExecuteTime": {
     "end_time": "2024-05-24T09:51:03.295331Z",
     "start_time": "2024-05-24T09:46:53.097908Z"
    }
   },
   "outputs": [
    {
     "name": "stderr",
     "output_type": "stream",
     "text": [
      "2024-05-24 18:46:53 [INFO]: No given device, using default device: cuda\n",
      "2024-05-24 18:46:53 [WARNING]: ‼️ saving_path not given. Model files and tensorboard file will not be saved.\n",
      "2024-05-24 18:46:53 [INFO]: CSDI initialized with the given hyperparameters, the number of trainable parameters: 10,280\n",
      "2024-05-24 18:47:02 [INFO]: Epoch 001 - training loss: 0.9083, validation loss: 0.7689\n",
      "2024-05-24 18:47:10 [INFO]: Epoch 002 - training loss: 0.7034, validation loss: 0.6536\n",
      "2024-05-24 18:47:19 [INFO]: Epoch 003 - training loss: 0.6535, validation loss: 0.6301\n",
      "2024-05-24 18:47:27 [INFO]: Epoch 004 - training loss: 0.6260, validation loss: 0.6200\n",
      "2024-05-24 18:47:35 [INFO]: Epoch 005 - training loss: 0.6253, validation loss: 0.6112\n",
      "2024-05-24 18:47:43 [INFO]: Epoch 006 - training loss: 0.6131, validation loss: 0.6015\n",
      "2024-05-24 18:47:51 [INFO]: Epoch 007 - training loss: 0.6068, validation loss: 0.5988\n",
      "2024-05-24 18:48:00 [INFO]: Epoch 008 - training loss: 0.5963, validation loss: 0.5886\n",
      "2024-05-24 18:48:08 [INFO]: Epoch 009 - training loss: 0.5949, validation loss: 0.5816\n",
      "2024-05-24 18:48:16 [INFO]: Epoch 010 - training loss: 0.5860, validation loss: 0.5789\n",
      "2024-05-24 18:48:24 [INFO]: Epoch 011 - training loss: 0.5904, validation loss: 0.5707\n",
      "2024-05-24 18:48:32 [INFO]: Epoch 012 - training loss: 0.5933, validation loss: 0.5700\n",
      "2024-05-24 18:48:40 [INFO]: Epoch 013 - training loss: 0.5868, validation loss: 0.5632\n",
      "2024-05-24 18:48:49 [INFO]: Epoch 014 - training loss: 0.5811, validation loss: 0.5659\n",
      "2024-05-24 18:48:57 [INFO]: Epoch 015 - training loss: 0.5783, validation loss: 0.5593\n",
      "2024-05-24 18:49:05 [INFO]: Epoch 016 - training loss: 0.5723, validation loss: 0.5598\n",
      "2024-05-24 18:49:14 [INFO]: Epoch 017 - training loss: 0.5755, validation loss: 0.5578\n",
      "2024-05-24 18:49:22 [INFO]: Epoch 018 - training loss: 0.5696, validation loss: 0.5538\n",
      "2024-05-24 18:49:30 [INFO]: Epoch 019 - training loss: 0.5664, validation loss: 0.5550\n",
      "2024-05-24 18:49:39 [INFO]: Epoch 020 - training loss: 0.5749, validation loss: 0.5513\n",
      "2024-05-24 18:49:47 [INFO]: Epoch 021 - training loss: 0.5696, validation loss: 0.5494\n",
      "2024-05-24 18:49:55 [INFO]: Epoch 022 - training loss: 0.5677, validation loss: 0.5497\n",
      "2024-05-24 18:50:03 [INFO]: Epoch 023 - training loss: 0.5635, validation loss: 0.5475\n",
      "2024-05-24 18:50:12 [INFO]: Epoch 024 - training loss: 0.5668, validation loss: 0.5489\n",
      "2024-05-24 18:50:20 [INFO]: Epoch 025 - training loss: 0.5707, validation loss: 0.5463\n",
      "2024-05-24 18:50:29 [INFO]: Epoch 026 - training loss: 0.5652, validation loss: 0.5442\n",
      "2024-05-24 18:50:37 [INFO]: Epoch 027 - training loss: 0.5571, validation loss: 0.5438\n",
      "2024-05-24 18:50:46 [INFO]: Epoch 028 - training loss: 0.5653, validation loss: 0.5429\n",
      "2024-05-24 18:50:54 [INFO]: Epoch 029 - training loss: 0.5647, validation loss: 0.5432\n",
      "2024-05-24 18:51:03 [INFO]: Epoch 030 - training loss: 0.5616, validation loss: 0.5416\n",
      "2024-05-24 18:51:03 [INFO]: Finished training. The best model is from epoch#30.\n"
     ]
    }
   ],
   "source": [
    " csdi = CSDI(\n",
    "    n_steps=n_steps,\n",
    "    n_features=n_features,\n",
    "    n_layers=2,\n",
    "    n_channels=8,\n",
    "    d_time_embedding=32,\n",
    "    d_feature_embedding=3,\n",
    "    d_diffusion_embedding=32,\n",
    "    n_diffusion_steps=5,\n",
    "    n_heads=4,\n",
    "    batch_size=batch_size,\n",
    "    epochs=epochs,\n",
    "    optimizer=optimizer\n",
    ")\n",
    "csdi.fit(train_set=dataset_for_training, val_set=dataset_for_validating)"
   ]
  },
  {
   "cell_type": "code",
   "execution_count": 26,
   "id": "56978308",
   "metadata": {
    "ExecuteTime": {
     "end_time": "2024-05-24T10:09:02.832818Z",
     "start_time": "2024-05-24T10:08:58.634819Z"
    }
   },
   "outputs": [],
   "source": [
    "#csdi_imputation = csdi.impute(dataset)\n",
    "#csdi_imputation = csdi_imputation.reshape(num_samples, 48, -1)\n",
    "#csdi_indicating_mask = np.isnan(X) ^ np.isnan(X_ori)\n",
    "\n",
    "csdi_results = csdi.predict(dataset_for_testing, n_sampling_times=2)\n",
    "csdi_imputation = csdi_results[\"imputation\"]\n",
    "\n",
    "mean_csdi_imputation = csdi_imputation.mean(axis=1)"
   ]
  },
  {
   "cell_type": "code",
   "execution_count": 27,
   "id": "416adabf",
   "metadata": {
    "ExecuteTime": {
     "end_time": "2024-05-24T10:09:14.079147Z",
     "start_time": "2024-05-24T10:09:13.882150Z"
    }
   },
   "outputs": [],
   "source": [
    "csdi_mae = calc_mae(mean_csdi_imputation,\n",
    "                    physionet2012_dataset['test_X_ori'],\n",
    "                    physionet2012_dataset['test_X_indicating_mask']\n",
    "                   )\n",
    "csdi_mse = calc_mse(mean_csdi_imputation,\n",
    "                    physionet2012_dataset['test_X_ori'],\n",
    "                    physionet2012_dataset['test_X_indicating_mask']\n",
    "                   )\n",
    "csdi_mre = calc_mre(mean_csdi_imputation,\n",
    "                    physionet2012_dataset['test_X_ori'],\n",
    "                    physionet2012_dataset['test_X_indicating_mask']\n",
    "                   )\n",
    "csdi_rmse = calc_rmse(mean_csdi_imputation,     \n",
    "                      physionet2012_dataset['test_X_ori'],\n",
    "                      physionet2012_dataset['test_X_indicating_mask']\n",
    "                     )"
   ]
  },
  {
   "cell_type": "code",
   "execution_count": 28,
   "id": "ad88cc12",
   "metadata": {
    "ExecuteTime": {
     "end_time": "2024-05-24T10:09:15.076069Z",
     "start_time": "2024-05-24T10:09:15.060097Z"
    }
   },
   "outputs": [
    {
     "name": "stdout",
     "output_type": "stream",
     "text": [
      "csdi_mae : 0.5169652467970249, csdi_mse : 0.6806989965726921, csdi_mre : 0.7339693522481987, csdi_rmse: 0.8250448451888491\n"
     ]
    }
   ],
   "source": [
    "print(f'csdi_mae : {csdi_mae}, csdi_mse : {csdi_mse}, csdi_mre : {csdi_mre}, csdi_rmse: {csdi_rmse}')"
   ]
  },
  {
   "cell_type": "markdown",
   "id": "27f1a228",
   "metadata": {},
   "source": [
    "# BRITS"
   ]
  },
  {
   "cell_type": "code",
   "execution_count": 18,
   "id": "0a9201bc",
   "metadata": {
    "ExecuteTime": {
     "end_time": "2024-05-24T10:04:32.756464Z",
     "start_time": "2024-05-24T09:52:31.171210Z"
    }
   },
   "outputs": [
    {
     "name": "stderr",
     "output_type": "stream",
     "text": [
      "2024-05-24 18:52:31 [INFO]: No given device, using default device: cuda\n",
      "2024-05-24 18:52:31 [WARNING]: ‼️ saving_path not given. Model files and tensorboard file will not be saved.\n",
      "2024-05-24 18:52:31 [INFO]: BRITS initialized with the given hyperparameters, the number of trainable parameters: 43,696\n",
      "2024-05-24 18:53:21 [INFO]: Epoch 001 - training loss: 1.3179, validation loss: 0.6653\n",
      "2024-05-24 18:53:44 [INFO]: Epoch 002 - training loss: 1.0186, validation loss: 0.5082\n",
      "2024-05-24 18:54:06 [INFO]: Epoch 003 - training loss: 0.8860, validation loss: 0.4472\n",
      "2024-05-24 18:54:29 [INFO]: Epoch 004 - training loss: 0.8234, validation loss: 0.4146\n",
      "2024-05-24 18:54:52 [INFO]: Epoch 005 - training loss: 0.7840, validation loss: 0.3929\n",
      "2024-05-24 18:55:15 [INFO]: Epoch 006 - training loss: 0.7561, validation loss: 0.3767\n",
      "2024-05-24 18:55:38 [INFO]: Epoch 007 - training loss: 0.7350, validation loss: 0.3643\n",
      "2024-05-24 18:56:01 [INFO]: Epoch 008 - training loss: 0.7184, validation loss: 0.3540\n",
      "2024-05-24 18:56:24 [INFO]: Epoch 009 - training loss: 0.7054, validation loss: 0.3479\n",
      "2024-05-24 18:56:48 [INFO]: Epoch 010 - training loss: 0.6955, validation loss: 0.3431\n",
      "2024-05-24 18:57:11 [INFO]: Epoch 011 - training loss: 0.6872, validation loss: 0.3383\n",
      "2024-05-24 18:57:34 [INFO]: Epoch 012 - training loss: 0.6800, validation loss: 0.3365\n",
      "2024-05-24 18:57:57 [INFO]: Epoch 013 - training loss: 0.6735, validation loss: 0.3322\n",
      "2024-05-24 18:58:20 [INFO]: Epoch 014 - training loss: 0.6678, validation loss: 0.3302\n",
      "2024-05-24 18:58:44 [INFO]: Epoch 015 - training loss: 0.6629, validation loss: 0.3279\n",
      "2024-05-24 18:59:07 [INFO]: Epoch 016 - training loss: 0.6584, validation loss: 0.3266\n",
      "2024-05-24 18:59:30 [INFO]: Epoch 017 - training loss: 0.6544, validation loss: 0.3251\n",
      "2024-05-24 18:59:53 [INFO]: Epoch 018 - training loss: 0.6506, validation loss: 0.3241\n",
      "2024-05-24 19:00:16 [INFO]: Epoch 019 - training loss: 0.6471, validation loss: 0.3228\n",
      "2024-05-24 19:00:40 [INFO]: Epoch 020 - training loss: 0.6439, validation loss: 0.3214\n",
      "2024-05-24 19:01:03 [INFO]: Epoch 021 - training loss: 0.6407, validation loss: 0.3216\n",
      "2024-05-24 19:01:26 [INFO]: Epoch 022 - training loss: 0.6379, validation loss: 0.3209\n",
      "2024-05-24 19:01:50 [INFO]: Epoch 023 - training loss: 0.6353, validation loss: 0.3205\n",
      "2024-05-24 19:02:13 [INFO]: Epoch 024 - training loss: 0.6328, validation loss: 0.3200\n",
      "2024-05-24 19:02:36 [INFO]: Epoch 025 - training loss: 0.6304, validation loss: 0.3206\n",
      "2024-05-24 19:02:59 [INFO]: Epoch 026 - training loss: 0.6279, validation loss: 0.3204\n",
      "2024-05-24 19:03:22 [INFO]: Epoch 027 - training loss: 0.6257, validation loss: 0.3208\n",
      "2024-05-24 19:03:45 [INFO]: Epoch 028 - training loss: 0.6237, validation loss: 0.3204\n",
      "2024-05-24 19:04:09 [INFO]: Epoch 029 - training loss: 0.6217, validation loss: 0.3217\n",
      "2024-05-24 19:04:32 [INFO]: Epoch 030 - training loss: 0.6197, validation loss: 0.3221\n",
      "2024-05-24 19:04:32 [INFO]: Finished training. The best model is from epoch#24.\n"
     ]
    }
   ],
   "source": [
    "brits = BRITS(\n",
    "    n_steps=n_steps,\n",
    "    n_features=n_features,\n",
    "    rnn_hidden_size=32,\n",
    "    batch_size=batch_size,\n",
    "    epochs=epochs,\n",
    "    optimizer=Adam(lr=0.001, weight_decay=1e-5)\n",
    ")\n",
    "\n",
    "brits.fit(train_set=dataset_for_training, val_set=dataset_for_validating)"
   ]
  },
  {
   "cell_type": "code",
   "execution_count": 19,
   "id": "b6b10ee5",
   "metadata": {
    "ExecuteTime": {
     "end_time": "2024-05-24T10:04:43.521458Z",
     "start_time": "2024-05-24T10:04:32.851459Z"
    }
   },
   "outputs": [],
   "source": [
    "brits_results = brits.predict(dataset_for_testing)\n",
    "brits_imputation = brits_results[\"imputation\"]"
   ]
  },
  {
   "cell_type": "code",
   "execution_count": 20,
   "id": "9f8d35ab",
   "metadata": {
    "ExecuteTime": {
     "end_time": "2024-05-24T10:04:43.864465Z",
     "start_time": "2024-05-24T10:04:43.661459Z"
    }
   },
   "outputs": [],
   "source": [
    "brits_mae = calc_mae(brits_imputation,\n",
    "                    physionet2012_dataset['test_X_ori'],\n",
    "                    physionet2012_dataset['test_X_indicating_mask']\n",
    "                    ) \n",
    "brits_mse = calc_mse(brits_imputation,\n",
    "                    physionet2012_dataset['test_X_ori'],\n",
    "                    physionet2012_dataset['test_X_indicating_mask']\n",
    "                    ) \n",
    "brits_mre = calc_mre(brits_imputation,\n",
    "                    physionet2012_dataset['test_X_ori'],\n",
    "                    physionet2012_dataset['test_X_indicating_mask']\n",
    "                    )\n",
    "brits_rmse = calc_rmse(brits_imputation,\n",
    "                    physionet2012_dataset['test_X_ori'],\n",
    "                    physionet2012_dataset['test_X_indicating_mask']\n",
    "                      ) "
   ]
  },
  {
   "cell_type": "code",
   "execution_count": 21,
   "id": "d4e3748e",
   "metadata": {
    "ExecuteTime": {
     "end_time": "2024-05-24T10:04:43.989464Z",
     "start_time": "2024-05-24T10:04:43.974459Z"
    }
   },
   "outputs": [
    {
     "name": "stdout",
     "output_type": "stream",
     "text": [
      "brits_mae : 0.2691224267809445, brits_mse : 0.37157659199046367, brits_mre : 0.38209070045559174, brits_rmse : 0.6095708260657359\n"
     ]
    }
   ],
   "source": [
    "print(f'brits_mae : {brits_mae}, brits_mse : {brits_mse}, brits_mre : {brits_mre}, brits_rmse : {brits_rmse}')"
   ]
  },
  {
   "cell_type": "markdown",
   "id": "777f6920",
   "metadata": {},
   "source": [
    "# iTransformer"
   ]
  },
  {
   "cell_type": "code",
   "execution_count": 30,
   "id": "657e1be4",
   "metadata": {
    "ExecuteTime": {
     "end_time": "2024-05-24T10:46:16.653660Z",
     "start_time": "2024-05-24T10:45:21.975510Z"
    }
   },
   "outputs": [
    {
     "name": "stderr",
     "output_type": "stream",
     "text": [
      "2024-05-24 19:45:21 [INFO]: No given device, using default device: cuda\n",
      "2024-05-24 19:45:21 [WARNING]: ‼️ saving_path not given. Model files and tensorboard file will not be saved.\n",
      "2024-05-24 19:45:21 [INFO]: iTransformer initialized with the given hyperparameters, the number of trainable parameters: 15,824\n",
      "2024-05-24 19:45:23 [INFO]: Epoch 001 - training loss: 1.1568, validation loss: 0.5719\n",
      "2024-05-24 19:45:25 [INFO]: Epoch 002 - training loss: 0.9074, validation loss: 0.5203\n",
      "2024-05-24 19:45:27 [INFO]: Epoch 003 - training loss: 0.8435, validation loss: 0.4988\n",
      "2024-05-24 19:45:29 [INFO]: Epoch 004 - training loss: 0.8058, validation loss: 0.4896\n",
      "2024-05-24 19:45:31 [INFO]: Epoch 005 - training loss: 0.7822, validation loss: 0.4832\n",
      "2024-05-24 19:45:32 [INFO]: Epoch 006 - training loss: 0.7678, validation loss: 0.4816\n",
      "2024-05-24 19:45:34 [INFO]: Epoch 007 - training loss: 0.7543, validation loss: 0.4786\n",
      "2024-05-24 19:45:36 [INFO]: Epoch 008 - training loss: 0.7479, validation loss: 0.4767\n",
      "2024-05-24 19:45:38 [INFO]: Epoch 009 - training loss: 0.7411, validation loss: 0.4752\n",
      "2024-05-24 19:45:40 [INFO]: Epoch 010 - training loss: 0.7381, validation loss: 0.4716\n",
      "2024-05-24 19:45:41 [INFO]: Epoch 011 - training loss: 0.7320, validation loss: 0.4712\n",
      "2024-05-24 19:45:43 [INFO]: Epoch 012 - training loss: 0.7302, validation loss: 0.4682\n",
      "2024-05-24 19:45:45 [INFO]: Epoch 013 - training loss: 0.7283, validation loss: 0.4748\n",
      "2024-05-24 19:45:47 [INFO]: Epoch 014 - training loss: 0.7262, validation loss: 0.4690\n",
      "2024-05-24 19:45:49 [INFO]: Epoch 015 - training loss: 0.7237, validation loss: 0.4672\n",
      "2024-05-24 19:45:51 [INFO]: Epoch 016 - training loss: 0.7229, validation loss: 0.4624\n",
      "2024-05-24 19:45:52 [INFO]: Epoch 017 - training loss: 0.7214, validation loss: 0.4646\n",
      "2024-05-24 19:45:54 [INFO]: Epoch 018 - training loss: 0.7190, validation loss: 0.4592\n",
      "2024-05-24 19:45:56 [INFO]: Epoch 019 - training loss: 0.7175, validation loss: 0.4619\n",
      "2024-05-24 19:45:58 [INFO]: Epoch 020 - training loss: 0.7148, validation loss: 0.4618\n",
      "2024-05-24 19:46:00 [INFO]: Epoch 021 - training loss: 0.7146, validation loss: 0.4621\n",
      "2024-05-24 19:46:02 [INFO]: Epoch 022 - training loss: 0.7108, validation loss: 0.4587\n",
      "2024-05-24 19:46:03 [INFO]: Epoch 023 - training loss: 0.7121, validation loss: 0.4625\n",
      "2024-05-24 19:46:05 [INFO]: Epoch 024 - training loss: 0.7109, validation loss: 0.4614\n",
      "2024-05-24 19:46:07 [INFO]: Epoch 025 - training loss: 0.7100, validation loss: 0.4571\n",
      "2024-05-24 19:46:09 [INFO]: Epoch 026 - training loss: 0.7110, validation loss: 0.4589\n",
      "2024-05-24 19:46:11 [INFO]: Epoch 027 - training loss: 0.7099, validation loss: 0.4598\n",
      "2024-05-24 19:46:13 [INFO]: Epoch 028 - training loss: 0.7067, validation loss: 0.4551\n",
      "2024-05-24 19:46:14 [INFO]: Epoch 029 - training loss: 0.7085, validation loss: 0.4610\n",
      "2024-05-24 19:46:16 [INFO]: Epoch 030 - training loss: 0.7061, validation loss: 0.4559\n",
      "2024-05-24 19:46:16 [INFO]: Finished training. The best model is from epoch#28.\n"
     ]
    }
   ],
   "source": [
    "itransformer = iTransformer(\n",
    "    n_steps=n_steps,\n",
    "    n_features=n_features,\n",
    "    n_layers=2,\n",
    "    d_model=32,\n",
    "    n_heads=2,\n",
    "    d_k=16,\n",
    "    d_v=16,\n",
    "    d_ffn=32,\n",
    "    dropout=0.1,\n",
    "    batch_size=batch_size,\n",
    "    epochs=epochs,\n",
    "    optimizer=optimizer\n",
    ")\n",
    "\n",
    "itransformer.fit(train_set=dataset_for_training, val_set=dataset_for_validating)"
   ]
  },
  {
   "cell_type": "code",
   "execution_count": 31,
   "id": "f70ea63b",
   "metadata": {
    "ExecuteTime": {
     "end_time": "2024-05-24T10:46:16.986652Z",
     "start_time": "2024-05-24T10:46:16.797660Z"
    }
   },
   "outputs": [],
   "source": [
    "itransformer_results = itransformer.predict(dataset_for_testing)\n",
    "itransformer_imputation = itransformer_results[\"imputation\"]"
   ]
  },
  {
   "cell_type": "code",
   "execution_count": 32,
   "id": "bfe0e8dc",
   "metadata": {
    "ExecuteTime": {
     "end_time": "2024-05-24T10:46:17.335093Z",
     "start_time": "2024-05-24T10:46:17.129036Z"
    }
   },
   "outputs": [],
   "source": [
    "itransformer_mae = calc_mae(itransformer_imputation,\n",
    "                    physionet2012_dataset['test_X_ori'],\n",
    "                    physionet2012_dataset['test_X_indicating_mask']\n",
    "                    ) \n",
    "itransformer_mse = calc_mse(itransformer_imputation,\n",
    "                    physionet2012_dataset['test_X_ori'],\n",
    "                    physionet2012_dataset['test_X_indicating_mask']\n",
    "                    ) \n",
    "itransformer_mre = calc_mre(itransformer_imputation,\n",
    "                    physionet2012_dataset['test_X_ori'],\n",
    "                    physionet2012_dataset['test_X_indicating_mask']\n",
    "                    )\n",
    "itransformer_rmse = calc_rmse(itransformer_imputation,\n",
    "                    physionet2012_dataset['test_X_ori'],\n",
    "                    physionet2012_dataset['test_X_indicating_mask']\n",
    "                      ) "
   ]
  },
  {
   "cell_type": "code",
   "execution_count": 33,
   "id": "4eaa7e57",
   "metadata": {
    "ExecuteTime": {
     "end_time": "2024-05-24T10:46:17.492222Z",
     "start_time": "2024-05-24T10:46:17.477230Z"
    }
   },
   "outputs": [
    {
     "name": "stdout",
     "output_type": "stream",
     "text": [
      "itransformer_mae : 0.4064529111809905, itransformer_mse : 0.47739525404227046, itransformer_mre : 0.5770677657487421, itransformer_rmse : 0.690937952382318\n"
     ]
    }
   ],
   "source": [
    "print(f'itransformer_mae : {itransformer_mae}, itransformer_mse : {itransformer_mse}, itransformer_mre : {itransformer_mre}, itransformer_rmse : {itransformer_rmse}')"
   ]
  }
 ],
 "metadata": {
  "kernelspec": {
   "display_name": "hellotr",
   "language": "python",
   "name": "hellotr"
  },
  "language_info": {
   "codemirror_mode": {
    "name": "ipython",
    "version": 3
   },
   "file_extension": ".py",
   "mimetype": "text/x-python",
   "name": "python",
   "nbconvert_exporter": "python",
   "pygments_lexer": "ipython3",
   "version": "3.8.19"
  },
  "toc": {
   "base_numbering": 1,
   "nav_menu": {},
   "number_sections": true,
   "sideBar": true,
   "skip_h1_title": false,
   "title_cell": "Table of Contents",
   "title_sidebar": "Contents",
   "toc_cell": false,
   "toc_position": {},
   "toc_section_display": true,
   "toc_window_display": false
  },
  "varInspector": {
   "cols": {
    "lenName": 16,
    "lenType": 16,
    "lenVar": 40
   },
   "kernels_config": {
    "python": {
     "delete_cmd_postfix": "",
     "delete_cmd_prefix": "del ",
     "library": "var_list.py",
     "varRefreshCmd": "print(var_dic_list())"
    },
    "r": {
     "delete_cmd_postfix": ") ",
     "delete_cmd_prefix": "rm(",
     "library": "var_list.r",
     "varRefreshCmd": "cat(var_dic_list()) "
    }
   },
   "types_to_exclude": [
    "module",
    "function",
    "builtin_function_or_method",
    "instance",
    "_Feature"
   ],
   "window_display": false
  }
 },
 "nbformat": 4,
 "nbformat_minor": 5
}
